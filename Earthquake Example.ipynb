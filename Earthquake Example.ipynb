{
 "cells": [
  {
   "cell_type": "markdown",
   "metadata": {},
   "source": [
    "# Performing geospatial queries in RethinkDB\n",
    "\n",
    "RethinkDB supports a number of [geospatial features](http://rethinkdb.com/docs/geo-support/javascript/) that you can use to build location-aware applications. The database's geographical types include points, lines, and polygons. Geospatial queries makes it easy to compute the distance between points, detect intersecting regions, and more.\n",
    "\n",
    "## Fetch and process the earthquake data\n",
    "\n",
    "The USGS publishes a [global feed](http://rethinkdb.com/blog/earthquake-geojson/) that includes data about every earthquake detected over the past 30 days. The feed is updated with the latest earthquakes every 15 minutes. Use the `r.http` command to fetch the data:"
   ]
  },
  {
   "cell_type": "code",
   "execution_count": 1,
   "metadata": {
    "collapsed": false
   },
   "outputs": [
    {
     "name": "stdout",
     "output_type": "stream",
     "text": [
      "[\n",
      "    {\n",
      "        \u001b[38;5;28;01m\"geometry\"\u001b[39;00m: {\n",
      "            \u001b[38;5;28;01m\"type\"\u001b[39;00m: \u001b[38;5;124m\"Point\"\u001b[39m, \n",
      "            \u001b[38;5;28;01m\"coordinates\"\u001b[39;00m: [\n",
      "                \u001b[38;5;241m-27.031\u001b[39m, \n",
      "                \u001b[38;5;241m-55.3659\u001b[39m, \n",
      "                \u001b[38;5;241m30.74\u001b[39m\n",
      "            ]\n",
      "        }, \n",
      "        \u001b[38;5;28;01m\"type\"\u001b[39;00m: \u001b[38;5;124m\"Feature\"\u001b[39m, \n",
      "        \u001b[38;5;28;01m\"id\"\u001b[39;00m: \u001b[38;5;124m\"us20002wlt\"\u001b[39m, \n",
      "        \u001b[38;5;28;01m\"properties\"\u001b[39;00m: {\n",
      "            \u001b[38;5;28;01m\"rms\"\u001b[39;00m: \u001b[38;5;241m1.14\u001b[39m, \n",
      "            \u001b[38;5;28;01m\"code\"\u001b[39;00m: \u001b[38;5;124m\"20002wlt\"\u001b[39m, \n",
      "            \u001b[38;5;28;01m\"cdi\"\u001b[39;00m: \u001b[38;5;241m1\u001b[39m, \n",
      "            \u001b[38;5;28;01m\"sources\"\u001b[39;00m: \u001b[38;5;124m\",us,\"\u001b[39m, \n",
      "            \u001b[38;5;28;01m\"nst\"\u001b[39;00m: \u001b[38;5;28;01mnull\u001b[39;00m, \n",
      "            \u001b[38;5;28;01m\"tz\"\u001b[39;00m: \u001b[38;5;241m-120\u001b[39m, \n",
      "            \u001b[38;5;28;01m\"title\"\u001b[39;00m: \u001b[38;5;124m\"M 5.0 - 148km N of Visokoi Island, South Georgia and the South Sandwich Islands\"\u001b[39m, \n",
      "            \u001b[38;5;28;01m\"magType\"\u001b[39;00m: \u001b[38;5;124m\"mb\"\u001b[39m, \n",
      "            \u001b[38;5;28;01m\"detail\"\u001b[39;00m: \u001b[38;5;124m\"http://earthquake.usgs.gov/earthquakes/feed/v1.0/detail/us20002wlt.geojson\"\u001b[39m, \n",
      "            \u001b[38;5;28;01m\"sig\"\u001b[39;00m: \u001b[38;5;241m385\u001b[39m, \n",
      "            \u001b[38;5;28;01m\"net\"\u001b[39;00m: \u001b[38;5;124m\"us\"\u001b[39m, \n",
      "            \u001b[38;5;28;01m\"type\"\u001b[39;00m: \u001b[38;5;124m\"earthquake\"\u001b[39m, \n",
      "            \u001b[38;5;28;01m\"status\"\u001b[39;00m: \u001b[38;5;124m\"reviewed\"\u001b[39m, \n",
      "            \u001b[38;5;28;01m\"updated\"\u001b[39;00m: \u001b[38;5;241m1436544969012\u001b[39m, \n",
      "            \u001b[38;5;28;01m\"felt\"\u001b[39;00m: \u001b[38;5;241m0\u001b[39m, \n",
      "            \u001b[38;5;28;01m\"gap\"\u001b[39;00m: \u001b[38;5;241m112\u001b[39m, \n",
      "            \u001b[38;5;28;01m\"dmin\"\u001b[39;00m: \u001b[38;5;241m5.574\u001b[39m, \n",
      "            \u001b[38;5;28;01m\"mag\"\u001b[39;00m: \u001b[38;5;241m5\u001b[39m, \n",
      "            \u001b[38;5;28;01m\"alert\"\u001b[39;00m: \u001b[38;5;28;01mnull\u001b[39;00m, \n",
      "            \u001b[38;5;28;01m\"types\"\u001b[39;00m: \u001b[38;5;124m\",cap,dyfi,geoserve,nearby-cities,origin,phase-data,\"\u001b[39m, \n",
      "            \u001b[38;5;28;01m\"url\"\u001b[39;00m: \u001b[38;5;124m\"http://earthquake.usgs.gov/earthquakes/eventpage/us20002wlt\"\u001b[39m, \n",
      "            \u001b[38;5;28;01m\"ids\"\u001b[39;00m: \u001b[38;5;124m\",us20002wlt,\"\u001b[39m, \n",
      "            \u001b[38;5;28;01m\"tsunami\"\u001b[39;00m: \u001b[38;5;241m0\u001b[39m, \n",
      "            \u001b[38;5;28;01m\"place\"\u001b[39;00m: \u001b[38;5;124m\"148km N of Visokoi Island, South Georgia and the South Sandwich Islands\"\u001b[39m, \n",
      "            \u001b[38;5;28;01m\"time\"\u001b[39;00m: \u001b[38;5;241m1436544202640\u001b[39m, \n",
      "            \u001b[38;5;28;01m\"mmi\"\u001b[39;00m: \u001b[38;5;28;01mnull\u001b[39;00m\n",
      "        }\n",
      "    }, \n",
      "    {\n",
      "        \u001b[38;5;28;01m\"geometry\"\u001b[39;00m: {\n",
      "            \u001b[38;5;28;01m\"type\"\u001b[39;00m: \u001b[38;5;124m\"Point\"\u001b[39m, \n",
      "            \u001b[38;5;28;01m\"coordinates\"\u001b[39;00m: [\n",
      "                \u001b[38;5;241m-153.5135\u001b[39m, \n",
      "                \u001b[38;5;241m58.4195\u001b[39m, \n",
      "                \u001b[38;5;241m85.5\u001b[39m\n",
      "            ]\n",
      "        }, \n",
      "        \u001b[38;5;28;01m\"type\"\u001b[39;00m: \u001b[38;5;124m\"Feature\"\u001b[39m, \n",
      "        \u001b[38;5;28;01m\"id\"\u001b[39;00m: \u001b[38;5;124m\"ak11644331\"\u001b[39m, \n",
      "        \u001b[38;5;28;01m\"properties\"\u001b[39;00m: {\n",
      "            \u001b[38;5;28;01m\"rms\"\u001b[39;00m: \u001b[38;5;241m0.53\u001b[39m, \n",
      "            \u001b[38;5;28;01m\"code\"\u001b[39;00m: \u001b[38;5;124m\"11644331\"\u001b[39m, \n",
      "            \u001b[38;5;28;01m\"cdi\"\u001b[39;00m: \u001b[38;5;241m1\u001b[39m, \n",
      "            \u001b[38;5;28;01m\"sources\"\u001b[39;00m: \u001b[38;5;124m\",ak,\"\u001b[39m, \n",
      "            \u001b[38;5;28;01m\"nst\"\u001b[39;00m: \u001b[38;5;28;01mnull\u001b[39;00m, \n",
      "            \u001b[38;5;28;01m\"tz\"\u001b[39;00m: \u001b[38;5;241m-480\u001b[39m, \n",
      "            \u001b[38;5;28;01m\"title\"\u001b[39;00m: \u001b[38;5;124m\"M 2.7 - 90km NW of Kodiak Station, Alaska\"\u001b[39m, \n",
      "            \u001b[38;5;28;01m\"magType\"\u001b[39;00m: \u001b[38;5;124m\"ml\"\u001b[39m, \n",
      "            \u001b[38;5;28;01m\"detail\"\u001b[39;00m: \u001b[38;5;124m\"http://earthquake.usgs.gov/earthquakes/feed/v1.0/detail/ak11644331.geojson\"\u001b[39m, \n",
      "            \u001b[38;5;28;01m\"sig\"\u001b[39;00m: \u001b[38;5;241m112\u001b[39m, \n",
      "            \u001b[38;5;28;01m\"net\"\u001b[39;00m: \u001b[38;5;124m\"ak\"\u001b[39m, \n",
      "            \u001b[38;5;28;01m\"type\"\u001b[39;00m: \u001b[38;5;124m\"earthquake\"\u001b[39m, \n",
      "            \u001b[38;5;28;01m\"status\"\u001b[39;00m: \u001b[38;5;124m\"automatic\"\u001b[39m, \n",
      "            \u001b[38;5;28;01m\"updated\"\u001b[39;00m: \u001b[38;5;241m1436548996667\u001b[39m, \n",
      "            \u001b[38;5;28;01m\"felt\"\u001b[39;00m: \u001b[38;5;241m1\u001b[39m, \n",
      "            \u001b[38;5;28;01m\"gap\"\u001b[39;00m: \u001b[38;5;28;01mnull\u001b[39;00m, \n",
      "            \u001b[38;5;28;01m\"dmin\"\u001b[39;00m: \u001b[38;5;28;01mnull\u001b[39;00m, \n",
      "            \u001b[38;5;28;01m\"mag\"\u001b[39;00m: \u001b[38;5;241m2.7\u001b[39m, \n",
      "            \u001b[38;5;28;01m\"alert\"\u001b[39;00m: \u001b[38;5;28;01mnull\u001b[39;00m, \n",
      "            \u001b[38;5;28;01m\"types\"\u001b[39;00m: \u001b[38;5;124m\",dyfi,general-link,geoserve,nearby-cities,origin,tectonic-summary,\"\u001b[39m, \n",
      "            \u001b[38;5;28;01m\"url\"\u001b[39;00m: \u001b[38;5;124m\"http://earthquake.usgs.gov/earthquakes/eventpage/ak11644331\"\u001b[39m, \n",
      "            \u001b[38;5;28;01m\"ids\"\u001b[39;00m: \u001b[38;5;124m\",ak11644331,\"\u001b[39m, \n",
      "            \u001b[38;5;28;01m\"tsunami\"\u001b[39;00m: \u001b[38;5;241m0\u001b[39m, \n",
      "            \u001b[38;5;28;01m\"place\"\u001b[39;00m: \u001b[38;5;124m\"90km NW of Kodiak Station, Alaska\"\u001b[39m, \n",
      "            \u001b[38;5;28;01m\"time\"\u001b[39;00m: \u001b[38;5;241m1436540475000\u001b[39m, \n",
      "            \u001b[38;5;28;01m\"mmi\"\u001b[39;00m: \u001b[38;5;28;01mnull\u001b[39;00m\n",
      "        }\n",
      "    }, \n",
      "    {\n",
      "        \u001b[38;5;28;01m\"geometry\"\u001b[39;00m: {\n",
      "            \u001b[38;5;28;01m\"type\"\u001b[39;00m: \u001b[38;5;124m\"Point\"\u001b[39m, \n",
      "            \u001b[38;5;28;01m\"coordinates\"\u001b[39;00m: [\n",
      "                \u001b[38;5;241m-83.1333\u001b[39m, \n",
      "                \u001b[38;5;241m8.5759\u001b[39m, \n",
      "                \u001b[38;5;241m7.09\u001b[39m\n",
      "            ]\n",
      "        }, \n",
      "        \u001b[38;5;28;01m\"type\"\u001b[39;00m: \u001b[38;5;124m\"Feature\"\u001b[39m, \n",
      "        \u001b[38;5;28;01m\"id\"\u001b[39;00m: \u001b[38;5;124m\"us20002wjc\"\u001b[39m, \n",
      "        \u001b[38;5;28;01m\"properties\"\u001b[39;00m: {\n",
      "            \u001b[38;5;28;01m\"rms\"\u001b[39;00m: \u001b[38;5;241m1.14\u001b[39m, \n",
      "            \u001b[38;5;28;01m\"code\"\u001b[39;00m: \u001b[38;5;124m\"20002wjc\"\u001b[39m, \n",
      "            \u001b[38;5;28;01m\"cdi\"\u001b[39;00m: \u001b[38;5;241m3.4\u001b[39m, \n",
      "            \u001b[38;5;28;01m\"sources\"\u001b[39;00m: \u001b[38;5;124m\",us,\"\u001b[39m, \n",
      "            \u001b[38;5;28;01m\"nst\"\u001b[39;00m: \u001b[38;5;28;01mnull\u001b[39;00m, \n",
      "            \u001b[38;5;28;01m\"tz\"\u001b[39;00m: \u001b[38;5;241m-360\u001b[39m, \n",
      "            \u001b[38;5;28;01m\"title\"\u001b[39;00m: \u001b[38;5;124m\"M 4.6 - 7km SSE of Golfito, Costa Rica\"\u001b[39m, \n",
      "            \u001b[38;5;28;01m\"magType\"\u001b[39;00m: \u001b[38;5;124m\"mb\"\u001b[39m, \n",
      "            \u001b[38;5;28;01m\"detail\"\u001b[39;00m: \u001b[38;5;124m\"http://earthquake.usgs.gov/earthquakes/feed/v1.0/detail/us20002wjc.geojson\"\u001b[39m, \n",
      "            \u001b[38;5;28;01m\"sig\"\u001b[39;00m: \u001b[38;5;241m328\u001b[39m, \n",
      "            \u001b[38;5;28;01m\"net\"\u001b[39;00m: \u001b[38;5;124m\"us\"\u001b[39m, \n",
      "            \u001b[38;5;28;01m\"type\"\u001b[39;00m: \u001b[38;5;124m\"earthquake\"\u001b[39m, \n",
      "            \u001b[38;5;28;01m\"status\"\u001b[39;00m: \u001b[38;5;124m\"reviewed\"\u001b[39m, \n",
      "            \u001b[38;5;28;01m\"updated\"\u001b[39;00m: \u001b[38;5;241m1436543810243\u001b[39m, \n",
      "            \u001b[38;5;28;01m\"felt\"\u001b[39;00m: \u001b[38;5;241m6\u001b[39m, \n",
      "            \u001b[38;5;28;01m\"gap\"\u001b[39;00m: \u001b[38;5;241m140\u001b[39m, \n",
      "            \u001b[38;5;28;01m\"dmin\"\u001b[39;00m: \u001b[38;5;241m0.257\u001b[39m, \n",
      "            \u001b[38;5;28;01m\"mag\"\u001b[39;00m: \u001b[38;5;241m4.6\u001b[39m, \n",
      "            \u001b[38;5;28;01m\"alert\"\u001b[39;00m: \u001b[38;5;28;01mnull\u001b[39;00m, \n",
      "            \u001b[38;5;28;01m\"types\"\u001b[39;00m: \u001b[38;5;124m\",cap,dyfi,geoserve,nearby-cities,origin,phase-data,tectonic-summary,\"\u001b[39m, \n",
      "            \u001b[38;5;28;01m\"url\"\u001b[39;00m: \u001b[38;5;124m\"http://earthquake.usgs.gov/earthquakes/eventpage/us20002wjc\"\u001b[39m, \n",
      "            \u001b[38;5;28;01m\"ids\"\u001b[39;00m: \u001b[38;5;124m\",us20002wjc,\"\u001b[39m, \n",
      "            \u001b[38;5;28;01m\"tsunami\"\u001b[39;00m: \u001b[38;5;241m0\u001b[39m, \n",
      "            \u001b[38;5;28;01m\"place\"\u001b[39;00m: \u001b[38;5;124m\"7km SSE of Golfito, Costa Rica\"\u001b[39m, \n",
      "            \u001b[38;5;28;01m\"time\"\u001b[39;00m: \u001b[38;5;241m1436528769110\u001b[39m, \n",
      "            \u001b[38;5;28;01m\"mmi\"\u001b[39;00m: \u001b[38;5;28;01mnull\u001b[39;00m\n",
      "        }\n",
      "    }\n",
      "]\n",
      "\n"
     ]
    }
   ],
   "source": [
    "%r r.http(\"http://earthquake.usgs.gov/earthquakes/feed/v1.0/summary/2.5_month.geojson\")[\"features\"][0:3]"
   ]
  },
  {
   "cell_type": "markdown",
   "metadata": {},
   "source": [
    "The feed includes an array of geographical points that represent earthquake epicenters. Each point comes with additional metadata, such as the magnitude and time of the associated seismic event. Before we proceed, create a table to store the earthquake data:"
   ]
  },
  {
   "cell_type": "code",
   "execution_count": 4,
   "metadata": {
    "collapsed": true
   },
   "outputs": [
    {
     "name": "stdout",
     "output_type": "stream",
     "text": [
      "{\n",
      "    \u001b[38;5;28;01m\"tables_created\"\u001b[39;00m: \u001b[38;5;241m1\u001b[39m, \n",
      "    \u001b[38;5;28;01m\"config_changes\"\u001b[39;00m: [\n",
      "        {\n",
      "            \u001b[38;5;28;01m\"old_val\"\u001b[39;00m: \u001b[38;5;28;01mnull\u001b[39;00m, \n",
      "            \u001b[38;5;28;01m\"new_val\"\u001b[39;00m: {\n",
      "                \u001b[38;5;28;01m\"primary_key\"\u001b[39;00m: \u001b[38;5;124m\"id\"\u001b[39m, \n",
      "                \u001b[38;5;28;01m\"durability\"\u001b[39;00m: \u001b[38;5;124m\"hard\"\u001b[39m, \n",
      "                \u001b[38;5;28;01m\"db\"\u001b[39;00m: \u001b[38;5;124m\"test\"\u001b[39m, \n",
      "                \u001b[38;5;28;01m\"shards\"\u001b[39;00m: [\n",
      "                    {\n",
      "                        \u001b[38;5;28;01m\"primary_replica\"\u001b[39;00m: \u001b[38;5;124m\"c77cc04d96c0_6gt\"\u001b[39m, \n",
      "                        \u001b[38;5;28;01m\"replicas\"\u001b[39;00m: [\n",
      "                            \u001b[38;5;124m\"c77cc04d96c0_6gt\"\u001b[39m\n",
      "                        ]\n",
      "                    }\n",
      "                ], \n",
      "                \u001b[38;5;28;01m\"write_acks\"\u001b[39;00m: \u001b[38;5;124m\"majority\"\u001b[39m, \n",
      "                \u001b[38;5;28;01m\"id\"\u001b[39;00m: \u001b[38;5;124m\"3f6a155f-74a6-45a6-be4b-72bdce827d00\"\u001b[39m, \n",
      "                \u001b[38;5;28;01m\"name\"\u001b[39;00m: \u001b[38;5;124m\"quake\"\u001b[39m\n",
      "            }\n",
      "        }\n",
      "    ]\n",
      "}\n",
      "\n"
     ]
    }
   ],
   "source": [
    "%r r.db(\"test\").table_create(\"quake\")"
   ]
  },
  {
   "cell_type": "markdown",
   "metadata": {},
   "source": [
    "The next step is transforming the data and inserting it into a table. Using the `merge` command, you can iterate over earthquake records from the USGS feed and replace the value of the `geometry` property with an actual point object. The output of the merge command can be passed directly to the `insert` command on the table where you want to store the data:"
   ]
  },
  {
   "cell_type": "code",
   "execution_count": 13,
   "metadata": {
    "collapsed": false
   },
   "outputs": [
    {
     "name": "stdout",
     "output_type": "stream",
     "text": [
      "{\n",
      "    \u001b[38;5;28;01m\"skipped\"\u001b[39;00m: \u001b[38;5;241m0\u001b[39m, \n",
      "    \u001b[38;5;28;01m\"deleted\"\u001b[39;00m: \u001b[38;5;241m0\u001b[39m, \n",
      "    \u001b[38;5;28;01m\"unchanged\"\u001b[39;00m: \u001b[38;5;241m0\u001b[39m, \n",
      "    \u001b[38;5;28;01m\"errors\"\u001b[39;00m: \u001b[38;5;241m0\u001b[39m, \n",
      "    \u001b[38;5;28;01m\"replaced\"\u001b[39;00m: \u001b[38;5;241m0\u001b[39m, \n",
      "    \u001b[38;5;28;01m\"inserted\"\u001b[39;00m: \u001b[38;5;241m1181\u001b[39m\n",
      "}\n",
      "\n"
     ]
    }
   ],
   "source": [
    "%r r.table(\"quake\").insert( \\\n",
    "    r.http(\"earthquake.usgs.gov/earthquakes/feed/v1.0/summary/2.5_month.geojson\")[\"features\"] \\\n",
    "     .merge({ \\\n",
    "        \"time\": r.epoch_time(r.row[\"properties\"][\"time\"] / 1000), \\\n",
    "        \"geometry\": r.point( \\\n",
    "            r.row[\"geometry\"][\"coordinates\"][0], \\\n",
    "            r.row[\"geometry\"][\"coordinates\"][1])}))\n"
   ]
  },
  {
   "cell_type": "markdown",
   "metadata": {},
   "source": [
    "The `r.point` command takes longitude as the first parameter and latitude as the second parameter, just like GeoJSON coordinate arrays. In the example above, the `r.point` command is passed the coordinate values from the earthquake object’s geometry property."
   ]
  },
  {
   "cell_type": "markdown",
   "metadata": {},
   "source": [
    "## Perform geospatial queries\n",
    "\n",
    "The next step is to create an index on the geometry property. Use the `index_create` command with the geo option to create an index that supports geospatial queries:"
   ]
  },
  {
   "cell_type": "code",
   "execution_count": 15,
   "metadata": {
    "collapsed": false
   },
   "outputs": [
    {
     "name": "stdout",
     "output_type": "stream",
     "text": [
      "{\n",
      "    \u001b[38;5;28;01m\"created\"\u001b[39;00m: \u001b[38;5;241m1\u001b[39m\n",
      "}\n",
      "\n"
     ]
    }
   ],
   "source": [
    "%r r.table(\"quake\").index_create(\"geometry\", geo=True)"
   ]
  },
  {
   "cell_type": "markdown",
   "metadata": {},
   "source": [
    "Now that there is an index, try querying the data. For the first query, try counting all of the earthquakes that took place within 200 miles of Tokyo:"
   ]
  },
  {
   "cell_type": "code",
   "execution_count": 16,
   "metadata": {
    "collapsed": false
   },
   "outputs": [
    {
     "name": "stdout",
     "output_type": "stream",
     "text": [
      "\u001b[38;5;241m6\u001b[39m\n",
      "\n"
     ]
    }
   ],
   "source": [
    "%r r.table('quake').get_intersecting( \\\n",
    "    r.circle([139.69, 35.68], 200, unit=\"mi\"), index=\"geometry\").count()"
   ]
  },
  {
   "cell_type": "markdown",
   "metadata": {},
   "source": [
    "In the example above, the `get_intersecting` command will find all of the records in the quakes table that have a geographic object stored in the geometry property that intersects with the specified circle. The `r.circle` command creates a polygon that approximates a circle with the desired radius and center point. The `unit` option tells the `r.circle` command to use a particular unit of measurement (miles, in this case) to compute the radius. The coordinates used in the above example correspond with the latitude and longitude of Tokyo.\n",
    "\n",
    "## Plotting earthquake data\n",
    "\n",
    "Now that you know how to perform geospatial queries, let's use `matplotlib` to render some graphs and maps. Expanding on the example above, let's plot all of the earthquakes near Tokyo:"
   ]
  },
  {
   "cell_type": "code",
   "execution_count": 17,
   "metadata": {
    "collapsed": true
   },
   "outputs": [],
   "source": [
    "%matplotlib inline"
   ]
  },
  {
   "cell_type": "code",
   "execution_count": 77,
   "metadata": {
    "collapsed": false
   },
   "outputs": [
    {
     "name": "stdout",
     "output_type": "stream",
     "text": [
      "[[140.0649, 36.21], [139.1552, 33.2428], [141.5866, 37.5366], [137.3947, 34.4406], [141.0457, 35.6923], [142.3242, 36.6824], [137.8565, 34.7673], [140.8211, 35.6806], [142.0924, 36.2156], [142.2326, 36.7263], [141.931, 35.5949], [141.1149, 33.3777]]\n"
     ]
    },
    {
     "data": {
      "text/html": [
       "<head>\n",
       "  <link rel=\"stylesheet\" href=\"http://cdn.leafletjs.com/leaflet-0.7.1/leaflet.css\" />\n",
       "  <script src=\"http://cdn.leafletjs.com/leaflet-0.7.1/leaflet.js\"></script>\n",
       "  <style>\n",
       "    .leaflet-container .leaflet-tile {\n",
       "       margin: 0;\n",
       "    }\n",
       "    .leaflet-control-zoom-in {\n",
       "        text-decoration: none !important;\n",
       "    }\n",
       "    .leaflet-control-zoom-out {\n",
       "        text-decoration: none !important;\n",
       "    }\n",
       "    #map10280f59a47147f6a4b6d7f0e0b4d6df {\n",
       "      height:320.0px;\n",
       "    }\n",
       "  </style> \n",
       "</head>\n",
       "<body>\n",
       "  <div id=\"map10280f59a47147f6a4b6d7f0e0b4d6df\"></div>\n",
       "<script text=\"text/javascript\">\n",
       "func10280f59a47147f6a4b6d7f0e0b4d6df = function() {\n",
       "var map = L.map('map10280f59a47147f6a4b6d7f0e0b4d6df');\n",
       "L.tileLayer(\n",
       "  \"http://{s}.tile.openstreetmap.org/{z}/{x}/{y}.png\",\n",
       "  {maxZoom:19, attribution: '<a href=\"https://github.com/jwass/mplleaflet\">mplleaflet</a> | Map data (c) <a href=\"http://openstreetmap.org\">OpenStreetMap</a> contributors'}).addTo(map);\n",
       "var gjData = {\"type\": \"FeatureCollection\", \"features\": [{\"geometry\": {\"type\": \"Point\", \"coordinates\": [140.06489999999999, 36.210000000000001]}, \"type\": \"Feature\", \"properties\": {\"anchor_x\": 4.0, \"html\": \"<svg width=\\\"8px\\\" height=\\\"8px\\\" viewBox=\\\"-4.0 -4.0 8.0 8.0\\\" xmlns=\\\"http://www.w3.org/2000/svg\\\" version=\\\"1.1\\\">  <path d=\\\"M -3.0 -3.0 L 3.0 -3.0 L 3.0 3.0 L -3.0 3.0 Z\\\" fill-opacity=\\\"1\\\" stroke=\\\"#000000\\\" stroke-width=\\\"0.5\\\" stroke-opacity=\\\"1\\\" fill=\\\"#FF0000\\\" /></svg>\", \"anchor_y\": 4.0}}, {\"geometry\": {\"type\": \"Point\", \"coordinates\": [139.15520000000001, 33.242800000000003]}, \"type\": \"Feature\", \"properties\": {\"anchor_x\": 4.0, \"html\": \"<svg width=\\\"8px\\\" height=\\\"8px\\\" viewBox=\\\"-4.0 -4.0 8.0 8.0\\\" xmlns=\\\"http://www.w3.org/2000/svg\\\" version=\\\"1.1\\\">  <path d=\\\"M -3.0 -3.0 L 3.0 -3.0 L 3.0 3.0 L -3.0 3.0 Z\\\" fill-opacity=\\\"1\\\" stroke=\\\"#000000\\\" stroke-width=\\\"0.5\\\" stroke-opacity=\\\"1\\\" fill=\\\"#FF0000\\\" /></svg>\", \"anchor_y\": 4.0}}, {\"geometry\": {\"type\": \"Point\", \"coordinates\": [141.5866, 37.5366]}, \"type\": \"Feature\", \"properties\": {\"anchor_x\": 4.0, \"html\": \"<svg width=\\\"8px\\\" height=\\\"8px\\\" viewBox=\\\"-4.0 -4.0 8.0 8.0\\\" xmlns=\\\"http://www.w3.org/2000/svg\\\" version=\\\"1.1\\\">  <path d=\\\"M -3.0 -3.0 L 3.0 -3.0 L 3.0 3.0 L -3.0 3.0 Z\\\" fill-opacity=\\\"1\\\" stroke=\\\"#000000\\\" stroke-width=\\\"0.5\\\" stroke-opacity=\\\"1\\\" fill=\\\"#FF0000\\\" /></svg>\", \"anchor_y\": 4.0}}, {\"geometry\": {\"type\": \"Point\", \"coordinates\": [137.3947, 34.440600000000003]}, \"type\": \"Feature\", \"properties\": {\"anchor_x\": 4.0, \"html\": \"<svg width=\\\"8px\\\" height=\\\"8px\\\" viewBox=\\\"-4.0 -4.0 8.0 8.0\\\" xmlns=\\\"http://www.w3.org/2000/svg\\\" version=\\\"1.1\\\">  <path d=\\\"M -3.0 -3.0 L 3.0 -3.0 L 3.0 3.0 L -3.0 3.0 Z\\\" fill-opacity=\\\"1\\\" stroke=\\\"#000000\\\" stroke-width=\\\"0.5\\\" stroke-opacity=\\\"1\\\" fill=\\\"#FF0000\\\" /></svg>\", \"anchor_y\": 4.0}}, {\"geometry\": {\"type\": \"Point\", \"coordinates\": [141.04570000000001, 35.692300000000003]}, \"type\": \"Feature\", \"properties\": {\"anchor_x\": 4.0, \"html\": \"<svg width=\\\"8px\\\" height=\\\"8px\\\" viewBox=\\\"-4.0 -4.0 8.0 8.0\\\" xmlns=\\\"http://www.w3.org/2000/svg\\\" version=\\\"1.1\\\">  <path d=\\\"M -3.0 -3.0 L 3.0 -3.0 L 3.0 3.0 L -3.0 3.0 Z\\\" fill-opacity=\\\"1\\\" stroke=\\\"#000000\\\" stroke-width=\\\"0.5\\\" stroke-opacity=\\\"1\\\" fill=\\\"#FF0000\\\" /></svg>\", \"anchor_y\": 4.0}}, {\"geometry\": {\"type\": \"Point\", \"coordinates\": [142.32419999999999, 36.682400000000001]}, \"type\": \"Feature\", \"properties\": {\"anchor_x\": 4.0, \"html\": \"<svg width=\\\"8px\\\" height=\\\"8px\\\" viewBox=\\\"-4.0 -4.0 8.0 8.0\\\" xmlns=\\\"http://www.w3.org/2000/svg\\\" version=\\\"1.1\\\">  <path d=\\\"M -3.0 -3.0 L 3.0 -3.0 L 3.0 3.0 L -3.0 3.0 Z\\\" fill-opacity=\\\"1\\\" stroke=\\\"#000000\\\" stroke-width=\\\"0.5\\\" stroke-opacity=\\\"1\\\" fill=\\\"#FF0000\\\" /></svg>\", \"anchor_y\": 4.0}}, {\"geometry\": {\"type\": \"Point\", \"coordinates\": [137.85650000000001, 34.767299999999999]}, \"type\": \"Feature\", \"properties\": {\"anchor_x\": 4.0, \"html\": \"<svg width=\\\"8px\\\" height=\\\"8px\\\" viewBox=\\\"-4.0 -4.0 8.0 8.0\\\" xmlns=\\\"http://www.w3.org/2000/svg\\\" version=\\\"1.1\\\">  <path d=\\\"M -3.0 -3.0 L 3.0 -3.0 L 3.0 3.0 L -3.0 3.0 Z\\\" fill-opacity=\\\"1\\\" stroke=\\\"#000000\\\" stroke-width=\\\"0.5\\\" stroke-opacity=\\\"1\\\" fill=\\\"#FF0000\\\" /></svg>\", \"anchor_y\": 4.0}}, {\"geometry\": {\"type\": \"Point\", \"coordinates\": [140.8211, 35.680599999999998]}, \"type\": \"Feature\", \"properties\": {\"anchor_x\": 4.0, \"html\": \"<svg width=\\\"8px\\\" height=\\\"8px\\\" viewBox=\\\"-4.0 -4.0 8.0 8.0\\\" xmlns=\\\"http://www.w3.org/2000/svg\\\" version=\\\"1.1\\\">  <path d=\\\"M -3.0 -3.0 L 3.0 -3.0 L 3.0 3.0 L -3.0 3.0 Z\\\" fill-opacity=\\\"1\\\" stroke=\\\"#000000\\\" stroke-width=\\\"0.5\\\" stroke-opacity=\\\"1\\\" fill=\\\"#FF0000\\\" /></svg>\", \"anchor_y\": 4.0}}, {\"geometry\": {\"type\": \"Point\", \"coordinates\": [142.0924, 36.215600000000002]}, \"type\": \"Feature\", \"properties\": {\"anchor_x\": 4.0, \"html\": \"<svg width=\\\"8px\\\" height=\\\"8px\\\" viewBox=\\\"-4.0 -4.0 8.0 8.0\\\" xmlns=\\\"http://www.w3.org/2000/svg\\\" version=\\\"1.1\\\">  <path d=\\\"M -3.0 -3.0 L 3.0 -3.0 L 3.0 3.0 L -3.0 3.0 Z\\\" fill-opacity=\\\"1\\\" stroke=\\\"#000000\\\" stroke-width=\\\"0.5\\\" stroke-opacity=\\\"1\\\" fill=\\\"#FF0000\\\" /></svg>\", \"anchor_y\": 4.0}}, {\"geometry\": {\"type\": \"Point\", \"coordinates\": [142.23259999999999, 36.726300000000002]}, \"type\": \"Feature\", \"properties\": {\"anchor_x\": 4.0, \"html\": \"<svg width=\\\"8px\\\" height=\\\"8px\\\" viewBox=\\\"-4.0 -4.0 8.0 8.0\\\" xmlns=\\\"http://www.w3.org/2000/svg\\\" version=\\\"1.1\\\">  <path d=\\\"M -3.0 -3.0 L 3.0 -3.0 L 3.0 3.0 L -3.0 3.0 Z\\\" fill-opacity=\\\"1\\\" stroke=\\\"#000000\\\" stroke-width=\\\"0.5\\\" stroke-opacity=\\\"1\\\" fill=\\\"#FF0000\\\" /></svg>\", \"anchor_y\": 4.0}}, {\"geometry\": {\"type\": \"Point\", \"coordinates\": [141.93100000000001, 35.594900000000003]}, \"type\": \"Feature\", \"properties\": {\"anchor_x\": 4.0, \"html\": \"<svg width=\\\"8px\\\" height=\\\"8px\\\" viewBox=\\\"-4.0 -4.0 8.0 8.0\\\" xmlns=\\\"http://www.w3.org/2000/svg\\\" version=\\\"1.1\\\">  <path d=\\\"M -3.0 -3.0 L 3.0 -3.0 L 3.0 3.0 L -3.0 3.0 Z\\\" fill-opacity=\\\"1\\\" stroke=\\\"#000000\\\" stroke-width=\\\"0.5\\\" stroke-opacity=\\\"1\\\" fill=\\\"#FF0000\\\" /></svg>\", \"anchor_y\": 4.0}}, {\"geometry\": {\"type\": \"Point\", \"coordinates\": [141.11490000000001, 33.377699999999997]}, \"type\": \"Feature\", \"properties\": {\"anchor_x\": 4.0, \"html\": \"<svg width=\\\"8px\\\" height=\\\"8px\\\" viewBox=\\\"-4.0 -4.0 8.0 8.0\\\" xmlns=\\\"http://www.w3.org/2000/svg\\\" version=\\\"1.1\\\">  <path d=\\\"M -3.0 -3.0 L 3.0 -3.0 L 3.0 3.0 L -3.0 3.0 Z\\\" fill-opacity=\\\"1\\\" stroke=\\\"#000000\\\" stroke-width=\\\"0.5\\\" stroke-opacity=\\\"1\\\" fill=\\\"#FF0000\\\" /></svg>\", \"anchor_y\": 4.0}}]};\n",
       "\n",
       "if (gjData.features.length != 0) {\n",
       "  var gj = L.geoJson(gjData, {\n",
       "    style: function (feature) {\n",
       "      return feature.properties;\n",
       "    },\n",
       "    pointToLayer: function (feature, latlng) {\n",
       "      var icon = L.divIcon({'html': feature.properties.html, \n",
       "        iconAnchor: [feature.properties.anchor_x, \n",
       "                     feature.properties.anchor_y], \n",
       "          className: 'empty'});  // What can I do about empty?\n",
       "      return L.marker(latlng, {icon: icon});\n",
       "    }\n",
       "  });\n",
       "  gj.addTo(map);\n",
       "  \n",
       "  map.fitBounds(gj.getBounds());\n",
       "} else {\n",
       "  map.setView([0, 0], 1);\n",
       "}\n",
       "\n",
       "}\n",
       "setTimeout(function() { func10280f59a47147f6a4b6d7f0e0b4d6df() }, 2000);\n",
       "</script>\n",
       "</body>"
      ],
      "text/plain": [
       "<IPython.core.display.HTML object>"
      ]
     },
     "execution_count": 77,
     "metadata": {},
     "output_type": "execute_result"
    }
   ],
   "source": [
    "import os, mplleaflet\n",
    "from matplotlib import pyplot\n",
    "import rethinkdb as r\n",
    "\n",
    "dbhost = os.environ.get(\"RETHINKDB_PORT_28015_TCP_ADDR\", \"localhost\")\n",
    "dbport = os.environ.get(\"RETHINKDB_PORT_28015_TCP_PORT\", 28015)\n",
    "\n",
    "conn = r.connect(host=dbhost, port=dbport)\n",
    "\n",
    "near_tokyo = list(r.table(\"quake\").get_intersecting(\n",
    "  r.circle([139.69, 35.68], 200, unit=\"mi\"), index=\"geometry\")[\"geometry\"] \\\n",
    "  .map(r.row.to_geojson()[\"coordinates\"]).run(conn))\n",
    "\n",
    "conn.close()\n",
    "\n",
    "print near_tokyo\n",
    "\n",
    "pyplot.plot([p[0] for p in near_tokyo], [p[1] for p in near_tokyo], 'rs')\n",
    "mplleaflet.display()"
   ]
  },
  {
   "cell_type": "markdown",
   "metadata": {},
   "source": [
    "And finally, let's generate a bar graph that shows the number of earthquakes per day for the past month:"
   ]
  },
  {
   "cell_type": "code",
   "execution_count": 75,
   "metadata": {
    "collapsed": false
   },
   "outputs": [
    {
     "name": "stdout",
     "output_type": "stream",
     "text": [
      "[[3, 4, 5, 6, 7, 8, 9, 10, 11, 12, 13, 14, 15, 16, 17, 18, 19, 20, 21, 22, 23, 24, 25, 26, 27, 28, 29, 30], [12, 12, 13, 13, 15, 15, 16, 17, 16, 16, 13, 9, 9, 10, 10, 10, 8, 15, 10, 8, 8, 9, 15, 10, 16, 5, 6, 13]]\n"
     ]
    },
    {
     "data": {
      "image/png": "[encoded data removed]",
      "text/plain": [
       "<matplotlib.figure.Figure at 0x7fd23fdfa150>"
      ]
     },
     "metadata": {},
     "output_type": "display_data"
    }
   ],
   "source": [
    "import os\n",
    "from matplotlib import pyplot\n",
    "import rethinkdb as r\n",
    "\n",
    "dbhost = os.environ.get(\"RETHINKDB_PORT_28015_TCP_ADDR\", \"localhost\")\n",
    "dbport = os.environ.get(\"RETHINKDB_PORT_28015_TCP_PORT\", 28015)\n",
    "\n",
    "conn = r.connect(host=dbhost, port=dbport)\n",
    "\n",
    "quakes = r.table(\"quake\") \\\n",
    "    .merge({\"date\": r.epoch_time(r.row[\"properties\"][\"time\"] / 1000).date()}) \\\n",
    "    .filter(r.row[\"date\"].month() == r.now().month() - 1) \\\n",
    "    .group(r.row[\"date\"].day()).count() \\\n",
    "    .ungroup().order_by(r.row[\"group\"]) \\\n",
    "    .do([r.row[\"group\"], r.row[\"reduction\"]]).run(conn)\n",
    "    \n",
    "print quakes\n",
    "\n",
    "conn.close()\n",
    "\n",
    "pyplot.bar(quakes[0], quakes[1])\n",
    "pyplot.show()"
   ]
  },
  {
   "cell_type": "markdown",
   "metadata": {},
   "source": [
    "To learn more about using geospatial queries in RethinkDB, check out the [documentation](http://rethinkdb.com/docs/geo-support/javascript/)."
   ]
  }
 ],
 "metadata": {
  "kernelspec": {
   "display_name": "Python 2",
   "language": "python",
   "name": "python2"
  },
  "language_info": {
   "codemirror_mode": {
    "name": "ipython",
    "version": 2
   },
   "file_extension": ".py",
   "mimetype": "text/x-python",
   "name": "python",
   "nbconvert_exporter": "python",
   "pygments_lexer": "ipython2",
   "version": "2.7.6"
  }
 },
 "nbformat": 4,
 "nbformat_minor": 0
}
